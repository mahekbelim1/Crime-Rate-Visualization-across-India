{
  "nbformat": 4,
  "nbformat_minor": 0,
  "metadata": {
    "colab": {
      "provenance": []
    },
    "kernelspec": {
      "name": "python3",
      "display_name": "Python 3"
    },
    "language_info": {
      "name": "python"
    }
  },
  "cells": [
    {
      "cell_type": "code",
      "source": [
        "from google.colab import files\n",
        "uploaded = files.upload()\n"
      ],
      "metadata": {
        "colab": {
          "base_uri": "https://localhost:8080/",
          "height": 108
        },
        "id": "wYLYvDKlFbFF",
        "outputId": "030214ae-dab3-4937-a226-79d8f694a2fa"
      },
      "execution_count": null,
      "outputs": [
        {
          "output_type": "display_data",
          "data": {
            "text/plain": [
              "<IPython.core.display.HTML object>"
            ],
            "text/html": [
              "\n",
              "     <input type=\"file\" id=\"files-e3175dc4-905b-48de-b08d-1b0fecb0a5af\" name=\"files[]\" multiple disabled\n",
              "        style=\"border:none\" />\n",
              "     <output id=\"result-e3175dc4-905b-48de-b08d-1b0fecb0a5af\">\n",
              "      Upload widget is only available when the cell has been executed in the\n",
              "      current browser session. Please rerun this cell to enable.\n",
              "      </output>\n",
              "      <script>// Copyright 2017 Google LLC\n",
              "//\n",
              "// Licensed under the Apache License, Version 2.0 (the \"License\");\n",
              "// you may not use this file except in compliance with the License.\n",
              "// You may obtain a copy of the License at\n",
              "//\n",
              "//      http://www.apache.org/licenses/LICENSE-2.0\n",
              "//\n",
              "// Unless required by applicable law or agreed to in writing, software\n",
              "// distributed under the License is distributed on an \"AS IS\" BASIS,\n",
              "// WITHOUT WARRANTIES OR CONDITIONS OF ANY KIND, either express or implied.\n",
              "// See the License for the specific language governing permissions and\n",
              "// limitations under the License.\n",
              "\n",
              "/**\n",
              " * @fileoverview Helpers for google.colab Python module.\n",
              " */\n",
              "(function(scope) {\n",
              "function span(text, styleAttributes = {}) {\n",
              "  const element = document.createElement('span');\n",
              "  element.textContent = text;\n",
              "  for (const key of Object.keys(styleAttributes)) {\n",
              "    element.style[key] = styleAttributes[key];\n",
              "  }\n",
              "  return element;\n",
              "}\n",
              "\n",
              "// Max number of bytes which will be uploaded at a time.\n",
              "const MAX_PAYLOAD_SIZE = 100 * 1024;\n",
              "\n",
              "function _uploadFiles(inputId, outputId) {\n",
              "  const steps = uploadFilesStep(inputId, outputId);\n",
              "  const outputElement = document.getElementById(outputId);\n",
              "  // Cache steps on the outputElement to make it available for the next call\n",
              "  // to uploadFilesContinue from Python.\n",
              "  outputElement.steps = steps;\n",
              "\n",
              "  return _uploadFilesContinue(outputId);\n",
              "}\n",
              "\n",
              "// This is roughly an async generator (not supported in the browser yet),\n",
              "// where there are multiple asynchronous steps and the Python side is going\n",
              "// to poll for completion of each step.\n",
              "// This uses a Promise to block the python side on completion of each step,\n",
              "// then passes the result of the previous step as the input to the next step.\n",
              "function _uploadFilesContinue(outputId) {\n",
              "  const outputElement = document.getElementById(outputId);\n",
              "  const steps = outputElement.steps;\n",
              "\n",
              "  const next = steps.next(outputElement.lastPromiseValue);\n",
              "  return Promise.resolve(next.value.promise).then((value) => {\n",
              "    // Cache the last promise value to make it available to the next\n",
              "    // step of the generator.\n",
              "    outputElement.lastPromiseValue = value;\n",
              "    return next.value.response;\n",
              "  });\n",
              "}\n",
              "\n",
              "/**\n",
              " * Generator function which is called between each async step of the upload\n",
              " * process.\n",
              " * @param {string} inputId Element ID of the input file picker element.\n",
              " * @param {string} outputId Element ID of the output display.\n",
              " * @return {!Iterable<!Object>} Iterable of next steps.\n",
              " */\n",
              "function* uploadFilesStep(inputId, outputId) {\n",
              "  const inputElement = document.getElementById(inputId);\n",
              "  inputElement.disabled = false;\n",
              "\n",
              "  const outputElement = document.getElementById(outputId);\n",
              "  outputElement.innerHTML = '';\n",
              "\n",
              "  const pickedPromise = new Promise((resolve) => {\n",
              "    inputElement.addEventListener('change', (e) => {\n",
              "      resolve(e.target.files);\n",
              "    });\n",
              "  });\n",
              "\n",
              "  const cancel = document.createElement('button');\n",
              "  inputElement.parentElement.appendChild(cancel);\n",
              "  cancel.textContent = 'Cancel upload';\n",
              "  const cancelPromise = new Promise((resolve) => {\n",
              "    cancel.onclick = () => {\n",
              "      resolve(null);\n",
              "    };\n",
              "  });\n",
              "\n",
              "  // Wait for the user to pick the files.\n",
              "  const files = yield {\n",
              "    promise: Promise.race([pickedPromise, cancelPromise]),\n",
              "    response: {\n",
              "      action: 'starting',\n",
              "    }\n",
              "  };\n",
              "\n",
              "  cancel.remove();\n",
              "\n",
              "  // Disable the input element since further picks are not allowed.\n",
              "  inputElement.disabled = true;\n",
              "\n",
              "  if (!files) {\n",
              "    return {\n",
              "      response: {\n",
              "        action: 'complete',\n",
              "      }\n",
              "    };\n",
              "  }\n",
              "\n",
              "  for (const file of files) {\n",
              "    const li = document.createElement('li');\n",
              "    li.append(span(file.name, {fontWeight: 'bold'}));\n",
              "    li.append(span(\n",
              "        `(${file.type || 'n/a'}) - ${file.size} bytes, ` +\n",
              "        `last modified: ${\n",
              "            file.lastModifiedDate ? file.lastModifiedDate.toLocaleDateString() :\n",
              "                                    'n/a'} - `));\n",
              "    const percent = span('0% done');\n",
              "    li.appendChild(percent);\n",
              "\n",
              "    outputElement.appendChild(li);\n",
              "\n",
              "    const fileDataPromise = new Promise((resolve) => {\n",
              "      const reader = new FileReader();\n",
              "      reader.onload = (e) => {\n",
              "        resolve(e.target.result);\n",
              "      };\n",
              "      reader.readAsArrayBuffer(file);\n",
              "    });\n",
              "    // Wait for the data to be ready.\n",
              "    let fileData = yield {\n",
              "      promise: fileDataPromise,\n",
              "      response: {\n",
              "        action: 'continue',\n",
              "      }\n",
              "    };\n",
              "\n",
              "    // Use a chunked sending to avoid message size limits. See b/62115660.\n",
              "    let position = 0;\n",
              "    do {\n",
              "      const length = Math.min(fileData.byteLength - position, MAX_PAYLOAD_SIZE);\n",
              "      const chunk = new Uint8Array(fileData, position, length);\n",
              "      position += length;\n",
              "\n",
              "      const base64 = btoa(String.fromCharCode.apply(null, chunk));\n",
              "      yield {\n",
              "        response: {\n",
              "          action: 'append',\n",
              "          file: file.name,\n",
              "          data: base64,\n",
              "        },\n",
              "      };\n",
              "\n",
              "      let percentDone = fileData.byteLength === 0 ?\n",
              "          100 :\n",
              "          Math.round((position / fileData.byteLength) * 100);\n",
              "      percent.textContent = `${percentDone}% done`;\n",
              "\n",
              "    } while (position < fileData.byteLength);\n",
              "  }\n",
              "\n",
              "  // All done.\n",
              "  yield {\n",
              "    response: {\n",
              "      action: 'complete',\n",
              "    }\n",
              "  };\n",
              "}\n",
              "\n",
              "scope.google = scope.google || {};\n",
              "scope.google.colab = scope.google.colab || {};\n",
              "scope.google.colab._files = {\n",
              "  _uploadFiles,\n",
              "  _uploadFilesContinue,\n",
              "};\n",
              "})(self);\n",
              "</script> "
            ]
          },
          "metadata": {}
        },
        {
          "output_type": "stream",
          "name": "stdout",
          "text": [
            "Saving pincodes.csv to pincodes (1).csv\n",
            "Saving final_dataset.xlsx to final_dataset (1).xlsx\n"
          ]
        }
      ]
    },
    {
      "cell_type": "code",
      "source": [
        "import pandas as pd\n",
        "from google.colab import files\n",
        "\n",
        "# Load the CSV file\n",
        "pincode_df = pd.read_csv('pincodes.csv')\n",
        "\n",
        "# Convert the pincode dataset to Excel format\n",
        "excel_path = 'pincode_dataset.xlsx'\n",
        "pincode_df.to_excel(excel_path, index=False)\n",
        "\n",
        "# Download the Excel file\n",
        "files.download(excel_path)\n"
      ],
      "metadata": {
        "colab": {
          "base_uri": "https://localhost:8080/",
          "height": 17
        },
        "id": "LVRoDecHGooa",
        "outputId": "87b9a2c7-e549-499d-a3cc-270577f64086"
      },
      "execution_count": null,
      "outputs": [
        {
          "output_type": "display_data",
          "data": {
            "text/plain": [
              "<IPython.core.display.Javascript object>"
            ],
            "application/javascript": [
              "\n",
              "    async function download(id, filename, size) {\n",
              "      if (!google.colab.kernel.accessAllowed) {\n",
              "        return;\n",
              "      }\n",
              "      const div = document.createElement('div');\n",
              "      const label = document.createElement('label');\n",
              "      label.textContent = `Downloading \"${filename}\": `;\n",
              "      div.appendChild(label);\n",
              "      const progress = document.createElement('progress');\n",
              "      progress.max = size;\n",
              "      div.appendChild(progress);\n",
              "      document.body.appendChild(div);\n",
              "\n",
              "      const buffers = [];\n",
              "      let downloaded = 0;\n",
              "\n",
              "      const channel = await google.colab.kernel.comms.open(id);\n",
              "      // Send a message to notify the kernel that we're ready.\n",
              "      channel.send({})\n",
              "\n",
              "      for await (const message of channel.messages) {\n",
              "        // Send a message to notify the kernel that we're ready.\n",
              "        channel.send({})\n",
              "        if (message.buffers) {\n",
              "          for (const buffer of message.buffers) {\n",
              "            buffers.push(buffer);\n",
              "            downloaded += buffer.byteLength;\n",
              "            progress.value = downloaded;\n",
              "          }\n",
              "        }\n",
              "      }\n",
              "      const blob = new Blob(buffers, {type: 'application/binary'});\n",
              "      const a = document.createElement('a');\n",
              "      a.href = window.URL.createObjectURL(blob);\n",
              "      a.download = filename;\n",
              "      div.appendChild(a);\n",
              "      a.click();\n",
              "      div.remove();\n",
              "    }\n",
              "  "
            ]
          },
          "metadata": {}
        },
        {
          "output_type": "display_data",
          "data": {
            "text/plain": [
              "<IPython.core.display.Javascript object>"
            ],
            "application/javascript": [
              "download(\"download_342abea0-0f33-4090-b56e-72f00c513ac2\", \"pincode_dataset.xlsx\", 5764)"
            ]
          },
          "metadata": {}
        }
      ]
    },
    {
      "cell_type": "code",
      "source": [
        "import pandas as pd\n",
        "\n",
        "# Read the Excel files\n",
        "crime_df = pd.read_excel('final_dataset.xlsx')\n",
        "pincode_df = pd.read_excel('pincode_dataset.xlsx')\n",
        "\n",
        "# Display first few rows of each file separately\n",
        "print(\" Crime Dataset:\")\n",
        "print(crime_df.head())  # You can use .to_string() for full row/column printing\n",
        "\n",
        "print(\"\\n Pincode Dataset:\")\n",
        "print(pincode_df.head())\n"
      ],
      "metadata": {
        "colab": {
          "base_uri": "https://localhost:8080/"
        },
        "id": "o2hCXhUYS28h",
        "outputId": "099d4b1e-0a13-450b-95cc-ea328dd43203"
      },
      "execution_count": null,
      "outputs": [
        {
          "output_type": "stream",
          "name": "stdout",
          "text": [
            " Crime Dataset:\n",
            "   Report Number       City Pin Code_x  Crime Code Crime Description  \\\n",
            "0              1  Ahmedabad    Unknown         576    IDENTITY THEFT   \n",
            "1              2    Chennai    Unknown         128          HOMICIDE   \n",
            "2              3   Ludhiana    Unknown         271        KIDNAPPING   \n",
            "3              4       Pune    Unknown         170          BURGLARY   \n",
            "4              5       Pune    Unknown         421         VANDALISM   \n",
            "\n",
            "   Victim Age Victim Gender   Weapon Used   Crime Domain  Police Deployed  \\\n",
            "0          16             M  Blunt Object  Violent Crime               13   \n",
            "1          37             M        Poison    Other Crime                9   \n",
            "2          48             F  Blunt Object    Other Crime               15   \n",
            "3          49             F       Firearm    Other Crime                1   \n",
            "4          30             F         Other    Other Crime               18   \n",
            "\n",
            "  Case Closed  Date Case Closed  Pin Code_y  \n",
            "0          No               NaN    380001.0  \n",
            "1          No               NaN    600001.0  \n",
            "2          No               NaN    141001.0  \n",
            "3         Yes  29-04-2020 05:00    411001.0  \n",
            "4         Yes  08-01-2020 21:00    411001.0  \n",
            "\n",
            " Pincode Dataset:\n",
            "        City  Pin Code\n",
            "0  Ahmedabad    380001\n",
            "1    Chennai    600001\n",
            "2   Ludhiana    141001\n",
            "3       Pune    411001\n",
            "4      Delhi    110001\n"
          ]
        }
      ]
    },
    {
      "cell_type": "code",
      "source": [
        "print(\"\\n Pincode Dataset:\")\n",
        "print(pincode_df.head())"
      ],
      "metadata": {
        "colab": {
          "base_uri": "https://localhost:8080/"
        },
        "id": "r82QQ7C0UYyI",
        "outputId": "566d6ec0-0635-4f03-ee13-e26e80e84447"
      },
      "execution_count": null,
      "outputs": [
        {
          "output_type": "stream",
          "name": "stdout",
          "text": [
            "\n",
            " Pincode Dataset:\n",
            "        City  Pin Code\n",
            "0  Ahmedabad    380001\n",
            "1    Chennai    600001\n",
            "2   Ludhiana    141001\n",
            "3       Pune    411001\n",
            "4      Delhi    110001\n"
          ]
        }
      ]
    },
    {
      "cell_type": "code",
      "source": [
        "import pandas as pd\n",
        "\n",
        "# Read the Excel files\n",
        "crime_df = pd.read_excel('crime_dataset.xlsx')\n",
        "pincode_df = pd.read_excel('pincode_dataset.xlsx')\n",
        "\n",
        "# Clean column names by stripping spaces\n",
        "crime_df.columns = crime_df.columns.str.strip()\n",
        "pincode_df.columns = pincode_df.columns.str.strip()\n",
        "\n",
        "# Check if 'City' and 'PinCode' columns exist in the pincode dataset\n",
        "print(\"Pincode Dataset Columns:\", pincode_df.columns)\n",
        "\n",
        "# Merge the crime dataset with the pincode dataset on the \"City\" column, without worrying about column order\n",
        "merged_df = pd.merge(crime_df, pincode_df, on='City', how='left')\n",
        "\n",
        "# Display the first few rows of the merged dataset\n",
        "print(merged_df.head())\n",
        "\n",
        "# Optionally, save the merged dataset to a new Excel file\n",
        "merged_excel_path = 'merged_crime_pincode_dataset.xlsx'\n",
        "merged_df.to_excel(merged_excel_path, index=False)\n",
        "\n",
        "# Download the merged Excel file\n",
        "from google.colab import files\n",
        "files.download(merged_excel_path)\n",
        "\n"
      ],
      "metadata": {
        "colab": {
          "base_uri": "https://localhost:8080/",
          "height": 381
        },
        "id": "IORPMKGuG3St",
        "outputId": "a7ecb9b6-0919-41d2-d488-94a21e40043c"
      },
      "execution_count": null,
      "outputs": [
        {
          "output_type": "stream",
          "name": "stdout",
          "text": [
            "Pincode Dataset Columns: Index(['City', 'Pin Code'], dtype='object')\n",
            "   Report Number       City  Pin Code_x  Crime Code Crime Description  \\\n",
            "0              1  Ahmedabad         NaN         576    IDENTITY THEFT   \n",
            "1              2    Chennai         NaN         128          HOMICIDE   \n",
            "2              3   Ludhiana         NaN         271        KIDNAPPING   \n",
            "3              4       Pune         NaN         170          BURGLARY   \n",
            "4              5       Pune         NaN         421         VANDALISM   \n",
            "\n",
            "   Victim Age Victim Gender   Weapon Used   Crime Domain  Police Deployed  \\\n",
            "0          16             M  Blunt Object  Violent Crime               13   \n",
            "1          37             M        Poison    Other Crime                9   \n",
            "2          48             F  Blunt Object    Other Crime               15   \n",
            "3          49             F       Firearm    Other Crime                1   \n",
            "4          30             F         Other    Other Crime               18   \n",
            "\n",
            "  Case Closed  Date Case Closed  Pin Code_y  \n",
            "0          No               NaN    380001.0  \n",
            "1          No               NaN    600001.0  \n",
            "2          No               NaN    141001.0  \n",
            "3         Yes  29-04-2020 05:00    411001.0  \n",
            "4         Yes  08-01-2020 21:00    411001.0  \n"
          ]
        },
        {
          "output_type": "display_data",
          "data": {
            "text/plain": [
              "<IPython.core.display.Javascript object>"
            ],
            "application/javascript": [
              "\n",
              "    async function download(id, filename, size) {\n",
              "      if (!google.colab.kernel.accessAllowed) {\n",
              "        return;\n",
              "      }\n",
              "      const div = document.createElement('div');\n",
              "      const label = document.createElement('label');\n",
              "      label.textContent = `Downloading \"${filename}\": `;\n",
              "      div.appendChild(label);\n",
              "      const progress = document.createElement('progress');\n",
              "      progress.max = size;\n",
              "      div.appendChild(progress);\n",
              "      document.body.appendChild(div);\n",
              "\n",
              "      const buffers = [];\n",
              "      let downloaded = 0;\n",
              "\n",
              "      const channel = await google.colab.kernel.comms.open(id);\n",
              "      // Send a message to notify the kernel that we're ready.\n",
              "      channel.send({})\n",
              "\n",
              "      for await (const message of channel.messages) {\n",
              "        // Send a message to notify the kernel that we're ready.\n",
              "        channel.send({})\n",
              "        if (message.buffers) {\n",
              "          for (const buffer of message.buffers) {\n",
              "            buffers.push(buffer);\n",
              "            downloaded += buffer.byteLength;\n",
              "            progress.value = downloaded;\n",
              "          }\n",
              "        }\n",
              "      }\n",
              "      const blob = new Blob(buffers, {type: 'application/binary'});\n",
              "      const a = document.createElement('a');\n",
              "      a.href = window.URL.createObjectURL(blob);\n",
              "      a.download = filename;\n",
              "      div.appendChild(a);\n",
              "      a.click();\n",
              "      div.remove();\n",
              "    }\n",
              "  "
            ]
          },
          "metadata": {}
        },
        {
          "output_type": "display_data",
          "data": {
            "text/plain": [
              "<IPython.core.display.Javascript object>"
            ],
            "application/javascript": [
              "download(\"download_cf41db50-a426-4b20-aad5-179c806c34e7\", \"merged_crime_pincode_dataset.xlsx\", 2073091)"
            ]
          },
          "metadata": {}
        }
      ]
    }
  ]
}